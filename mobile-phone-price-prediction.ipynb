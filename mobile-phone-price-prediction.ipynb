{
 "cells": [
  {
   "cell_type": "markdown",
   "id": "00f5c8fa",
   "metadata": {
    "papermill": {
     "duration": 0.005615,
     "end_time": "2025-07-05T08:52:31.161880",
     "exception": false,
     "start_time": "2025-07-05T08:52:31.156265",
     "status": "completed"
    },
    "tags": []
   },
   "source": [
    "# 📱 Mobile Price Range Prediction using Random Forest + RandomizedSearchCV"
   ]
  },
  {
   "cell_type": "markdown",
   "id": "b56db604",
   "metadata": {
    "papermill": {
     "duration": 0.004941,
     "end_time": "2025-07-05T08:52:31.171591",
     "exception": false,
     "start_time": "2025-07-05T08:52:31.166650",
     "status": "completed"
    },
    "tags": []
   },
   "source": [
    "_Predicting phone price ranges using machine learning with clean code, hyperparameter tuning, and ✨vibes✨._"
   ]
  },
  {
   "cell_type": "markdown",
   "id": "8923ef04",
   "metadata": {
    "papermill": {
     "duration": 0.004358,
     "end_time": "2025-07-05T08:52:31.180493",
     "exception": false,
     "start_time": "2025-07-05T08:52:31.176135",
     "status": "completed"
    },
    "tags": []
   },
   "source": [
    "## 🔍 Introduction"
   ]
  },
  {
   "cell_type": "markdown",
   "id": "23c0eb65",
   "metadata": {
    "papermill": {
     "duration": 0.004351,
     "end_time": "2025-07-05T08:52:31.189342",
     "exception": false,
     "start_time": "2025-07-05T08:52:31.184991",
     "status": "completed"
    },
    "tags": []
   },
   "source": [
    "In this notebook, we use a dataset of mobile phone specifications to **predict the price range** a phone falls into — whether it's a budget phone, mid-range, or high-end.\n",
    "\n",
    "We’ll train a `RandomForestClassifier` and use `RandomizedSearchCV` to find the best hyperparameters. 🌳✨\n",
    "\n",
    "This is a real-world inspired task often seen in **e-commerce**, where companies need to recommend or auto-tag price ranges based on features.\n"
   ]
  },
  {
   "cell_type": "markdown",
   "id": "dfd949af",
   "metadata": {
    "papermill": {
     "duration": 0.004285,
     "end_time": "2025-07-05T08:52:31.198122",
     "exception": false,
     "start_time": "2025-07-05T08:52:31.193837",
     "status": "completed"
    },
    "tags": []
   },
   "source": [
    "## 📚 Importing Libraries"
   ]
  },
  {
   "cell_type": "code",
   "execution_count": 1,
   "id": "1174b554",
   "metadata": {
    "_cell_guid": "b1076dfc-b9ad-4769-8c92-a6c4dae69d19",
    "_uuid": "8f2839f25d086af736a60e9eeb907d3b93b6e0e5",
    "execution": {
     "iopub.execute_input": "2025-07-05T08:52:31.208698Z",
     "iopub.status.busy": "2025-07-05T08:52:31.208275Z",
     "iopub.status.idle": "2025-07-05T08:52:35.029101Z",
     "shell.execute_reply": "2025-07-05T08:52:35.028296Z"
    },
    "papermill": {
     "duration": 3.828151,
     "end_time": "2025-07-05T08:52:35.030706",
     "exception": false,
     "start_time": "2025-07-05T08:52:31.202555",
     "status": "completed"
    },
    "tags": []
   },
   "outputs": [],
   "source": [
    "import pandas as pd\n",
    "from sklearn.ensemble import RandomForestClassifier\n",
    "from sklearn.preprocessing import StandardScaler\n",
    "from sklearn.model_selection import RandomizedSearchCV"
   ]
  },
  {
   "cell_type": "markdown",
   "id": "503da363",
   "metadata": {
    "papermill": {
     "duration": 0.004443,
     "end_time": "2025-07-05T08:52:35.039938",
     "exception": false,
     "start_time": "2025-07-05T08:52:35.035495",
     "status": "completed"
    },
    "tags": []
   },
   "source": [
    "## 🧼 Data Overview + Preprocessing"
   ]
  },
  {
   "cell_type": "code",
   "execution_count": 2,
   "id": "8f40ed24",
   "metadata": {
    "execution": {
     "iopub.execute_input": "2025-07-05T08:52:35.050449Z",
     "iopub.status.busy": "2025-07-05T08:52:35.049994Z",
     "iopub.status.idle": "2025-07-05T08:52:35.100955Z",
     "shell.execute_reply": "2025-07-05T08:52:35.099737Z"
    },
    "papermill": {
     "duration": 0.058135,
     "end_time": "2025-07-05T08:52:35.102636",
     "exception": false,
     "start_time": "2025-07-05T08:52:35.044501",
     "status": "completed"
    },
    "tags": []
   },
   "outputs": [],
   "source": [
    "training_df = pd.read_csv('/kaggle/input/mobile-price-classification/train.csv')\n",
    "testing_df = pd.read_csv('/kaggle/input/mobile-price-classification/test.csv')"
   ]
  },
  {
   "cell_type": "code",
   "execution_count": 3,
   "id": "a01b3a65",
   "metadata": {
    "execution": {
     "iopub.execute_input": "2025-07-05T08:52:35.113199Z",
     "iopub.status.busy": "2025-07-05T08:52:35.112910Z",
     "iopub.status.idle": "2025-07-05T08:52:35.145247Z",
     "shell.execute_reply": "2025-07-05T08:52:35.144323Z"
    },
    "papermill": {
     "duration": 0.039297,
     "end_time": "2025-07-05T08:52:35.146707",
     "exception": false,
     "start_time": "2025-07-05T08:52:35.107410",
     "status": "completed"
    },
    "tags": []
   },
   "outputs": [
    {
     "data": {
      "text/html": [
       "<div>\n",
       "<style scoped>\n",
       "    .dataframe tbody tr th:only-of-type {\n",
       "        vertical-align: middle;\n",
       "    }\n",
       "\n",
       "    .dataframe tbody tr th {\n",
       "        vertical-align: top;\n",
       "    }\n",
       "\n",
       "    .dataframe thead th {\n",
       "        text-align: right;\n",
       "    }\n",
       "</style>\n",
       "<table border=\"1\" class=\"dataframe\">\n",
       "  <thead>\n",
       "    <tr style=\"text-align: right;\">\n",
       "      <th></th>\n",
       "      <th>battery_power</th>\n",
       "      <th>blue</th>\n",
       "      <th>clock_speed</th>\n",
       "      <th>dual_sim</th>\n",
       "      <th>fc</th>\n",
       "      <th>four_g</th>\n",
       "      <th>int_memory</th>\n",
       "      <th>m_dep</th>\n",
       "      <th>mobile_wt</th>\n",
       "      <th>n_cores</th>\n",
       "      <th>...</th>\n",
       "      <th>px_height</th>\n",
       "      <th>px_width</th>\n",
       "      <th>ram</th>\n",
       "      <th>sc_h</th>\n",
       "      <th>sc_w</th>\n",
       "      <th>talk_time</th>\n",
       "      <th>three_g</th>\n",
       "      <th>touch_screen</th>\n",
       "      <th>wifi</th>\n",
       "      <th>price_range</th>\n",
       "    </tr>\n",
       "  </thead>\n",
       "  <tbody>\n",
       "    <tr>\n",
       "      <th>0</th>\n",
       "      <td>842</td>\n",
       "      <td>0</td>\n",
       "      <td>2.2</td>\n",
       "      <td>0</td>\n",
       "      <td>1</td>\n",
       "      <td>0</td>\n",
       "      <td>7</td>\n",
       "      <td>0.6</td>\n",
       "      <td>188</td>\n",
       "      <td>2</td>\n",
       "      <td>...</td>\n",
       "      <td>20</td>\n",
       "      <td>756</td>\n",
       "      <td>2549</td>\n",
       "      <td>9</td>\n",
       "      <td>7</td>\n",
       "      <td>19</td>\n",
       "      <td>0</td>\n",
       "      <td>0</td>\n",
       "      <td>1</td>\n",
       "      <td>1</td>\n",
       "    </tr>\n",
       "    <tr>\n",
       "      <th>1</th>\n",
       "      <td>1021</td>\n",
       "      <td>1</td>\n",
       "      <td>0.5</td>\n",
       "      <td>1</td>\n",
       "      <td>0</td>\n",
       "      <td>1</td>\n",
       "      <td>53</td>\n",
       "      <td>0.7</td>\n",
       "      <td>136</td>\n",
       "      <td>3</td>\n",
       "      <td>...</td>\n",
       "      <td>905</td>\n",
       "      <td>1988</td>\n",
       "      <td>2631</td>\n",
       "      <td>17</td>\n",
       "      <td>3</td>\n",
       "      <td>7</td>\n",
       "      <td>1</td>\n",
       "      <td>1</td>\n",
       "      <td>0</td>\n",
       "      <td>2</td>\n",
       "    </tr>\n",
       "    <tr>\n",
       "      <th>2</th>\n",
       "      <td>563</td>\n",
       "      <td>1</td>\n",
       "      <td>0.5</td>\n",
       "      <td>1</td>\n",
       "      <td>2</td>\n",
       "      <td>1</td>\n",
       "      <td>41</td>\n",
       "      <td>0.9</td>\n",
       "      <td>145</td>\n",
       "      <td>5</td>\n",
       "      <td>...</td>\n",
       "      <td>1263</td>\n",
       "      <td>1716</td>\n",
       "      <td>2603</td>\n",
       "      <td>11</td>\n",
       "      <td>2</td>\n",
       "      <td>9</td>\n",
       "      <td>1</td>\n",
       "      <td>1</td>\n",
       "      <td>0</td>\n",
       "      <td>2</td>\n",
       "    </tr>\n",
       "    <tr>\n",
       "      <th>3</th>\n",
       "      <td>615</td>\n",
       "      <td>1</td>\n",
       "      <td>2.5</td>\n",
       "      <td>0</td>\n",
       "      <td>0</td>\n",
       "      <td>0</td>\n",
       "      <td>10</td>\n",
       "      <td>0.8</td>\n",
       "      <td>131</td>\n",
       "      <td>6</td>\n",
       "      <td>...</td>\n",
       "      <td>1216</td>\n",
       "      <td>1786</td>\n",
       "      <td>2769</td>\n",
       "      <td>16</td>\n",
       "      <td>8</td>\n",
       "      <td>11</td>\n",
       "      <td>1</td>\n",
       "      <td>0</td>\n",
       "      <td>0</td>\n",
       "      <td>2</td>\n",
       "    </tr>\n",
       "    <tr>\n",
       "      <th>4</th>\n",
       "      <td>1821</td>\n",
       "      <td>1</td>\n",
       "      <td>1.2</td>\n",
       "      <td>0</td>\n",
       "      <td>13</td>\n",
       "      <td>1</td>\n",
       "      <td>44</td>\n",
       "      <td>0.6</td>\n",
       "      <td>141</td>\n",
       "      <td>2</td>\n",
       "      <td>...</td>\n",
       "      <td>1208</td>\n",
       "      <td>1212</td>\n",
       "      <td>1411</td>\n",
       "      <td>8</td>\n",
       "      <td>2</td>\n",
       "      <td>15</td>\n",
       "      <td>1</td>\n",
       "      <td>1</td>\n",
       "      <td>0</td>\n",
       "      <td>1</td>\n",
       "    </tr>\n",
       "  </tbody>\n",
       "</table>\n",
       "<p>5 rows × 21 columns</p>\n",
       "</div>"
      ],
      "text/plain": [
       "   battery_power  blue  clock_speed  dual_sim  fc  four_g  int_memory  m_dep  \\\n",
       "0            842     0          2.2         0   1       0           7    0.6   \n",
       "1           1021     1          0.5         1   0       1          53    0.7   \n",
       "2            563     1          0.5         1   2       1          41    0.9   \n",
       "3            615     1          2.5         0   0       0          10    0.8   \n",
       "4           1821     1          1.2         0  13       1          44    0.6   \n",
       "\n",
       "   mobile_wt  n_cores  ...  px_height  px_width   ram  sc_h  sc_w  talk_time  \\\n",
       "0        188        2  ...         20       756  2549     9     7         19   \n",
       "1        136        3  ...        905      1988  2631    17     3          7   \n",
       "2        145        5  ...       1263      1716  2603    11     2          9   \n",
       "3        131        6  ...       1216      1786  2769    16     8         11   \n",
       "4        141        2  ...       1208      1212  1411     8     2         15   \n",
       "\n",
       "   three_g  touch_screen  wifi  price_range  \n",
       "0        0             0     1            1  \n",
       "1        1             1     0            2  \n",
       "2        1             1     0            2  \n",
       "3        1             0     0            2  \n",
       "4        1             1     0            1  \n",
       "\n",
       "[5 rows x 21 columns]"
      ]
     },
     "execution_count": 3,
     "metadata": {},
     "output_type": "execute_result"
    }
   ],
   "source": [
    "training_df.head()"
   ]
  },
  {
   "cell_type": "code",
   "execution_count": 4,
   "id": "6805d4cf",
   "metadata": {
    "execution": {
     "iopub.execute_input": "2025-07-05T08:52:35.158284Z",
     "iopub.status.busy": "2025-07-05T08:52:35.157979Z",
     "iopub.status.idle": "2025-07-05T08:52:35.165301Z",
     "shell.execute_reply": "2025-07-05T08:52:35.164449Z"
    },
    "papermill": {
     "duration": 0.014492,
     "end_time": "2025-07-05T08:52:35.166745",
     "exception": false,
     "start_time": "2025-07-05T08:52:35.152253",
     "status": "completed"
    },
    "tags": []
   },
   "outputs": [
    {
     "data": {
      "text/plain": [
       "battery_power    0\n",
       "blue             0\n",
       "clock_speed      0\n",
       "dual_sim         0\n",
       "fc               0\n",
       "four_g           0\n",
       "int_memory       0\n",
       "m_dep            0\n",
       "mobile_wt        0\n",
       "n_cores          0\n",
       "pc               0\n",
       "px_height        0\n",
       "px_width         0\n",
       "ram              0\n",
       "sc_h             0\n",
       "sc_w             0\n",
       "talk_time        0\n",
       "three_g          0\n",
       "touch_screen     0\n",
       "wifi             0\n",
       "price_range      0\n",
       "dtype: int64"
      ]
     },
     "execution_count": 4,
     "metadata": {},
     "output_type": "execute_result"
    }
   ],
   "source": [
    "training_df.isnull().sum()"
   ]
  },
  {
   "cell_type": "code",
   "execution_count": 5,
   "id": "441d23c8",
   "metadata": {
    "execution": {
     "iopub.execute_input": "2025-07-05T08:52:35.178099Z",
     "iopub.status.busy": "2025-07-05T08:52:35.177757Z",
     "iopub.status.idle": "2025-07-05T08:52:35.185083Z",
     "shell.execute_reply": "2025-07-05T08:52:35.184176Z"
    },
    "papermill": {
     "duration": 0.014494,
     "end_time": "2025-07-05T08:52:35.186409",
     "exception": false,
     "start_time": "2025-07-05T08:52:35.171915",
     "status": "completed"
    },
    "tags": []
   },
   "outputs": [
    {
     "data": {
      "text/plain": [
       "Index(['id', 'battery_power', 'blue', 'clock_speed', 'dual_sim', 'fc',\n",
       "       'four_g', 'int_memory', 'm_dep', 'mobile_wt', 'n_cores', 'pc',\n",
       "       'px_height', 'px_width', 'ram', 'sc_h', 'sc_w', 'talk_time', 'three_g',\n",
       "       'touch_screen', 'wifi'],\n",
       "      dtype='object')"
      ]
     },
     "execution_count": 5,
     "metadata": {},
     "output_type": "execute_result"
    }
   ],
   "source": [
    "testing_df.columns"
   ]
  },
  {
   "cell_type": "code",
   "execution_count": 6,
   "id": "29770728",
   "metadata": {
    "execution": {
     "iopub.execute_input": "2025-07-05T08:52:35.197751Z",
     "iopub.status.busy": "2025-07-05T08:52:35.197448Z",
     "iopub.status.idle": "2025-07-05T08:52:35.203196Z",
     "shell.execute_reply": "2025-07-05T08:52:35.202357Z"
    },
    "papermill": {
     "duration": 0.012845,
     "end_time": "2025-07-05T08:52:35.204520",
     "exception": false,
     "start_time": "2025-07-05T08:52:35.191675",
     "status": "completed"
    },
    "tags": []
   },
   "outputs": [
    {
     "data": {
      "text/plain": [
       "Index(['battery_power', 'blue', 'clock_speed', 'dual_sim', 'fc', 'four_g',\n",
       "       'int_memory', 'm_dep', 'mobile_wt', 'n_cores', 'pc', 'px_height',\n",
       "       'px_width', 'ram', 'sc_h', 'sc_w', 'talk_time', 'three_g',\n",
       "       'touch_screen', 'wifi', 'price_range'],\n",
       "      dtype='object')"
      ]
     },
     "execution_count": 6,
     "metadata": {},
     "output_type": "execute_result"
    }
   ],
   "source": [
    "training_df.columns"
   ]
  },
  {
   "cell_type": "code",
   "execution_count": 7,
   "id": "bdad5efe",
   "metadata": {
    "execution": {
     "iopub.execute_input": "2025-07-05T08:52:35.216160Z",
     "iopub.status.busy": "2025-07-05T08:52:35.215644Z",
     "iopub.status.idle": "2025-07-05T08:52:35.223840Z",
     "shell.execute_reply": "2025-07-05T08:52:35.222944Z"
    },
    "papermill": {
     "duration": 0.015443,
     "end_time": "2025-07-05T08:52:35.225285",
     "exception": false,
     "start_time": "2025-07-05T08:52:35.209842",
     "status": "completed"
    },
    "tags": []
   },
   "outputs": [],
   "source": [
    "X = training_df.drop(['price_range'], axis=1)\n",
    "y = training_df['price_range']\n",
    "y_test = testing_df.drop(['id'], axis=1)"
   ]
  },
  {
   "cell_type": "code",
   "execution_count": 8,
   "id": "157409f0",
   "metadata": {
    "execution": {
     "iopub.execute_input": "2025-07-05T08:52:35.237167Z",
     "iopub.status.busy": "2025-07-05T08:52:35.236548Z",
     "iopub.status.idle": "2025-07-05T08:52:35.240972Z",
     "shell.execute_reply": "2025-07-05T08:52:35.239920Z"
    },
    "papermill": {
     "duration": 0.012065,
     "end_time": "2025-07-05T08:52:35.242510",
     "exception": false,
     "start_time": "2025-07-05T08:52:35.230445",
     "status": "completed"
    },
    "tags": []
   },
   "outputs": [],
   "source": [
    "scaler = StandardScaler()"
   ]
  },
  {
   "cell_type": "code",
   "execution_count": 9,
   "id": "93ace718",
   "metadata": {
    "execution": {
     "iopub.execute_input": "2025-07-05T08:52:35.253960Z",
     "iopub.status.busy": "2025-07-05T08:52:35.253630Z",
     "iopub.status.idle": "2025-07-05T08:52:35.273908Z",
     "shell.execute_reply": "2025-07-05T08:52:35.273218Z"
    },
    "papermill": {
     "duration": 0.027776,
     "end_time": "2025-07-05T08:52:35.275484",
     "exception": false,
     "start_time": "2025-07-05T08:52:35.247708",
     "status": "completed"
    },
    "tags": []
   },
   "outputs": [],
   "source": [
    "X_train = scaler.fit_transform(X)\n",
    "y_test = scaler.transform(y_test)"
   ]
  },
  {
   "cell_type": "markdown",
   "id": "1536b3e9",
   "metadata": {
    "papermill": {
     "duration": 0.004705,
     "end_time": "2025-07-05T08:52:35.285408",
     "exception": false,
     "start_time": "2025-07-05T08:52:35.280703",
     "status": "completed"
    },
    "tags": []
   },
   "source": [
    "## 🌳 Model: Random Forest + RandomizedSearchCV"
   ]
  },
  {
   "cell_type": "code",
   "execution_count": 10,
   "id": "4c1ceb3f",
   "metadata": {
    "execution": {
     "iopub.execute_input": "2025-07-05T08:52:35.296781Z",
     "iopub.status.busy": "2025-07-05T08:52:35.296442Z",
     "iopub.status.idle": "2025-07-05T08:52:35.300545Z",
     "shell.execute_reply": "2025-07-05T08:52:35.299694Z"
    },
    "papermill": {
     "duration": 0.011746,
     "end_time": "2025-07-05T08:52:35.302029",
     "exception": false,
     "start_time": "2025-07-05T08:52:35.290283",
     "status": "completed"
    },
    "tags": []
   },
   "outputs": [],
   "source": [
    "rf = RandomForestClassifier()"
   ]
  },
  {
   "cell_type": "code",
   "execution_count": 11,
   "id": "9be6d63a",
   "metadata": {
    "execution": {
     "iopub.execute_input": "2025-07-05T08:52:35.313526Z",
     "iopub.status.busy": "2025-07-05T08:52:35.313255Z",
     "iopub.status.idle": "2025-07-05T08:52:35.317532Z",
     "shell.execute_reply": "2025-07-05T08:52:35.316834Z"
    },
    "papermill": {
     "duration": 0.011715,
     "end_time": "2025-07-05T08:52:35.318921",
     "exception": false,
     "start_time": "2025-07-05T08:52:35.307206",
     "status": "completed"
    },
    "tags": []
   },
   "outputs": [],
   "source": [
    "max_features = [0.2, 0.4, 0.5, 0.7, 1.0]\n",
    "# bootstrap = [True, False]\n",
    "max_samples = [0.2, 0.4, 0.5, 0.7, 1.0]"
   ]
  },
  {
   "cell_type": "code",
   "execution_count": 12,
   "id": "9dcf67d3",
   "metadata": {
    "execution": {
     "iopub.execute_input": "2025-07-05T08:52:35.330208Z",
     "iopub.status.busy": "2025-07-05T08:52:35.329917Z",
     "iopub.status.idle": "2025-07-05T08:52:35.333616Z",
     "shell.execute_reply": "2025-07-05T08:52:35.332908Z"
    },
    "papermill": {
     "duration": 0.011016,
     "end_time": "2025-07-05T08:52:35.335035",
     "exception": false,
     "start_time": "2025-07-05T08:52:35.324019",
     "status": "completed"
    },
    "tags": []
   },
   "outputs": [],
   "source": [
    "parameters = {'max_features' : max_features,\n",
    "             'max_samples' : max_samples}"
   ]
  },
  {
   "cell_type": "code",
   "execution_count": 13,
   "id": "4a896c1c",
   "metadata": {
    "execution": {
     "iopub.execute_input": "2025-07-05T08:52:35.346366Z",
     "iopub.status.busy": "2025-07-05T08:52:35.346081Z",
     "iopub.status.idle": "2025-07-05T08:52:35.350457Z",
     "shell.execute_reply": "2025-07-05T08:52:35.349589Z"
    },
    "papermill": {
     "duration": 0.011781,
     "end_time": "2025-07-05T08:52:35.351935",
     "exception": false,
     "start_time": "2025-07-05T08:52:35.340154",
     "status": "completed"
    },
    "tags": []
   },
   "outputs": [],
   "source": [
    "search = RandomizedSearchCV(\n",
    "    estimator=rf,\n",
    "    param_distributions=parameters, \n",
    "    n_iter=20,       \n",
    "    cv=5,            \n",
    "    n_jobs=-1,       \n",
    "    random_state=42  \n",
    ")"
   ]
  },
  {
   "cell_type": "code",
   "execution_count": 14,
   "id": "e7fd562c",
   "metadata": {
    "execution": {
     "iopub.execute_input": "2025-07-05T08:52:35.363683Z",
     "iopub.status.busy": "2025-07-05T08:52:35.363341Z",
     "iopub.status.idle": "2025-07-05T08:52:56.177182Z",
     "shell.execute_reply": "2025-07-05T08:52:56.176325Z"
    },
    "papermill": {
     "duration": 20.821757,
     "end_time": "2025-07-05T08:52:56.178887",
     "exception": false,
     "start_time": "2025-07-05T08:52:35.357130",
     "status": "completed"
    },
    "tags": []
   },
   "outputs": [
    {
     "data": {
      "text/html": [
       "<style>#sk-container-id-1 {color: black;background-color: white;}#sk-container-id-1 pre{padding: 0;}#sk-container-id-1 div.sk-toggleable {background-color: white;}#sk-container-id-1 label.sk-toggleable__label {cursor: pointer;display: block;width: 100%;margin-bottom: 0;padding: 0.3em;box-sizing: border-box;text-align: center;}#sk-container-id-1 label.sk-toggleable__label-arrow:before {content: \"▸\";float: left;margin-right: 0.25em;color: #696969;}#sk-container-id-1 label.sk-toggleable__label-arrow:hover:before {color: black;}#sk-container-id-1 div.sk-estimator:hover label.sk-toggleable__label-arrow:before {color: black;}#sk-container-id-1 div.sk-toggleable__content {max-height: 0;max-width: 0;overflow: hidden;text-align: left;background-color: #f0f8ff;}#sk-container-id-1 div.sk-toggleable__content pre {margin: 0.2em;color: black;border-radius: 0.25em;background-color: #f0f8ff;}#sk-container-id-1 input.sk-toggleable__control:checked~div.sk-toggleable__content {max-height: 200px;max-width: 100%;overflow: auto;}#sk-container-id-1 input.sk-toggleable__control:checked~label.sk-toggleable__label-arrow:before {content: \"▾\";}#sk-container-id-1 div.sk-estimator input.sk-toggleable__control:checked~label.sk-toggleable__label {background-color: #d4ebff;}#sk-container-id-1 div.sk-label input.sk-toggleable__control:checked~label.sk-toggleable__label {background-color: #d4ebff;}#sk-container-id-1 input.sk-hidden--visually {border: 0;clip: rect(1px 1px 1px 1px);clip: rect(1px, 1px, 1px, 1px);height: 1px;margin: -1px;overflow: hidden;padding: 0;position: absolute;width: 1px;}#sk-container-id-1 div.sk-estimator {font-family: monospace;background-color: #f0f8ff;border: 1px dotted black;border-radius: 0.25em;box-sizing: border-box;margin-bottom: 0.5em;}#sk-container-id-1 div.sk-estimator:hover {background-color: #d4ebff;}#sk-container-id-1 div.sk-parallel-item::after {content: \"\";width: 100%;border-bottom: 1px solid gray;flex-grow: 1;}#sk-container-id-1 div.sk-label:hover label.sk-toggleable__label {background-color: #d4ebff;}#sk-container-id-1 div.sk-serial::before {content: \"\";position: absolute;border-left: 1px solid gray;box-sizing: border-box;top: 0;bottom: 0;left: 50%;z-index: 0;}#sk-container-id-1 div.sk-serial {display: flex;flex-direction: column;align-items: center;background-color: white;padding-right: 0.2em;padding-left: 0.2em;position: relative;}#sk-container-id-1 div.sk-item {position: relative;z-index: 1;}#sk-container-id-1 div.sk-parallel {display: flex;align-items: stretch;justify-content: center;background-color: white;position: relative;}#sk-container-id-1 div.sk-item::before, #sk-container-id-1 div.sk-parallel-item::before {content: \"\";position: absolute;border-left: 1px solid gray;box-sizing: border-box;top: 0;bottom: 0;left: 50%;z-index: -1;}#sk-container-id-1 div.sk-parallel-item {display: flex;flex-direction: column;z-index: 1;position: relative;background-color: white;}#sk-container-id-1 div.sk-parallel-item:first-child::after {align-self: flex-end;width: 50%;}#sk-container-id-1 div.sk-parallel-item:last-child::after {align-self: flex-start;width: 50%;}#sk-container-id-1 div.sk-parallel-item:only-child::after {width: 0;}#sk-container-id-1 div.sk-dashed-wrapped {border: 1px dashed gray;margin: 0 0.4em 0.5em 0.4em;box-sizing: border-box;padding-bottom: 0.4em;background-color: white;}#sk-container-id-1 div.sk-label label {font-family: monospace;font-weight: bold;display: inline-block;line-height: 1.2em;}#sk-container-id-1 div.sk-label-container {text-align: center;}#sk-container-id-1 div.sk-container {/* jupyter's `normalize.less` sets `[hidden] { display: none; }` but bootstrap.min.css set `[hidden] { display: none !important; }` so we also need the `!important` here to be able to override the default hidden behavior on the sphinx rendered scikit-learn.org. See: https://github.com/scikit-learn/scikit-learn/issues/21755 */display: inline-block !important;position: relative;}#sk-container-id-1 div.sk-text-repr-fallback {display: none;}</style><div id=\"sk-container-id-1\" class=\"sk-top-container\"><div class=\"sk-text-repr-fallback\"><pre>RandomizedSearchCV(cv=5, estimator=RandomForestClassifier(), n_iter=20,\n",
       "                   n_jobs=-1,\n",
       "                   param_distributions={&#x27;max_features&#x27;: [0.2, 0.4, 0.5, 0.7,\n",
       "                                                         1.0],\n",
       "                                        &#x27;max_samples&#x27;: [0.2, 0.4, 0.5, 0.7,\n",
       "                                                        1.0]},\n",
       "                   random_state=42)</pre><b>In a Jupyter environment, please rerun this cell to show the HTML representation or trust the notebook. <br />On GitHub, the HTML representation is unable to render, please try loading this page with nbviewer.org.</b></div><div class=\"sk-container\" hidden><div class=\"sk-item sk-dashed-wrapped\"><div class=\"sk-label-container\"><div class=\"sk-label sk-toggleable\"><input class=\"sk-toggleable__control sk-hidden--visually\" id=\"sk-estimator-id-1\" type=\"checkbox\" ><label for=\"sk-estimator-id-1\" class=\"sk-toggleable__label sk-toggleable__label-arrow\">RandomizedSearchCV</label><div class=\"sk-toggleable__content\"><pre>RandomizedSearchCV(cv=5, estimator=RandomForestClassifier(), n_iter=20,\n",
       "                   n_jobs=-1,\n",
       "                   param_distributions={&#x27;max_features&#x27;: [0.2, 0.4, 0.5, 0.7,\n",
       "                                                         1.0],\n",
       "                                        &#x27;max_samples&#x27;: [0.2, 0.4, 0.5, 0.7,\n",
       "                                                        1.0]},\n",
       "                   random_state=42)</pre></div></div></div><div class=\"sk-parallel\"><div class=\"sk-parallel-item\"><div class=\"sk-item\"><div class=\"sk-label-container\"><div class=\"sk-label sk-toggleable\"><input class=\"sk-toggleable__control sk-hidden--visually\" id=\"sk-estimator-id-2\" type=\"checkbox\" ><label for=\"sk-estimator-id-2\" class=\"sk-toggleable__label sk-toggleable__label-arrow\">estimator: RandomForestClassifier</label><div class=\"sk-toggleable__content\"><pre>RandomForestClassifier()</pre></div></div></div><div class=\"sk-serial\"><div class=\"sk-item\"><div class=\"sk-estimator sk-toggleable\"><input class=\"sk-toggleable__control sk-hidden--visually\" id=\"sk-estimator-id-3\" type=\"checkbox\" ><label for=\"sk-estimator-id-3\" class=\"sk-toggleable__label sk-toggleable__label-arrow\">RandomForestClassifier</label><div class=\"sk-toggleable__content\"><pre>RandomForestClassifier()</pre></div></div></div></div></div></div></div></div></div></div>"
      ],
      "text/plain": [
       "RandomizedSearchCV(cv=5, estimator=RandomForestClassifier(), n_iter=20,\n",
       "                   n_jobs=-1,\n",
       "                   param_distributions={'max_features': [0.2, 0.4, 0.5, 0.7,\n",
       "                                                         1.0],\n",
       "                                        'max_samples': [0.2, 0.4, 0.5, 0.7,\n",
       "                                                        1.0]},\n",
       "                   random_state=42)"
      ]
     },
     "execution_count": 14,
     "metadata": {},
     "output_type": "execute_result"
    }
   ],
   "source": [
    "search.fit(X_train,y)"
   ]
  },
  {
   "cell_type": "code",
   "execution_count": 15,
   "id": "ab4fbdca",
   "metadata": {
    "execution": {
     "iopub.execute_input": "2025-07-05T08:52:56.191101Z",
     "iopub.status.busy": "2025-07-05T08:52:56.190767Z",
     "iopub.status.idle": "2025-07-05T08:52:56.196687Z",
     "shell.execute_reply": "2025-07-05T08:52:56.195776Z"
    },
    "papermill": {
     "duration": 0.013562,
     "end_time": "2025-07-05T08:52:56.198123",
     "exception": false,
     "start_time": "2025-07-05T08:52:56.184561",
     "status": "completed"
    },
    "tags": []
   },
   "outputs": [
    {
     "data": {
      "text/plain": [
       "{'max_samples': 0.7, 'max_features': 0.7}"
      ]
     },
     "execution_count": 15,
     "metadata": {},
     "output_type": "execute_result"
    }
   ],
   "source": [
    "search.best_params_"
   ]
  },
  {
   "cell_type": "code",
   "execution_count": 16,
   "id": "1e1dad16",
   "metadata": {
    "execution": {
     "iopub.execute_input": "2025-07-05T08:52:56.210641Z",
     "iopub.status.busy": "2025-07-05T08:52:56.210334Z",
     "iopub.status.idle": "2025-07-05T08:52:56.215977Z",
     "shell.execute_reply": "2025-07-05T08:52:56.215133Z"
    },
    "papermill": {
     "duration": 0.013484,
     "end_time": "2025-07-05T08:52:56.217354",
     "exception": false,
     "start_time": "2025-07-05T08:52:56.203870",
     "status": "completed"
    },
    "tags": []
   },
   "outputs": [
    {
     "data": {
      "text/plain": [
       "0.9035"
      ]
     },
     "execution_count": 16,
     "metadata": {},
     "output_type": "execute_result"
    }
   ],
   "source": [
    "search.best_score_"
   ]
  },
  {
   "cell_type": "markdown",
   "id": "a872141b",
   "metadata": {
    "papermill": {
     "duration": 0.005198,
     "end_time": "2025-07-05T08:52:56.228211",
     "exception": false,
     "start_time": "2025-07-05T08:52:56.223013",
     "status": "completed"
    },
    "tags": []
   },
   "source": [
    "## Model Training"
   ]
  },
  {
   "cell_type": "code",
   "execution_count": 17,
   "id": "b816488e",
   "metadata": {
    "execution": {
     "iopub.execute_input": "2025-07-05T08:52:56.240572Z",
     "iopub.status.busy": "2025-07-05T08:52:56.239739Z",
     "iopub.status.idle": "2025-07-05T08:52:56.843076Z",
     "shell.execute_reply": "2025-07-05T08:52:56.842152Z"
    },
    "papermill": {
     "duration": 0.611019,
     "end_time": "2025-07-05T08:52:56.844562",
     "exception": false,
     "start_time": "2025-07-05T08:52:56.233543",
     "status": "completed"
    },
    "tags": []
   },
   "outputs": [
    {
     "data": {
      "text/html": [
       "<style>#sk-container-id-2 {color: black;background-color: white;}#sk-container-id-2 pre{padding: 0;}#sk-container-id-2 div.sk-toggleable {background-color: white;}#sk-container-id-2 label.sk-toggleable__label {cursor: pointer;display: block;width: 100%;margin-bottom: 0;padding: 0.3em;box-sizing: border-box;text-align: center;}#sk-container-id-2 label.sk-toggleable__label-arrow:before {content: \"▸\";float: left;margin-right: 0.25em;color: #696969;}#sk-container-id-2 label.sk-toggleable__label-arrow:hover:before {color: black;}#sk-container-id-2 div.sk-estimator:hover label.sk-toggleable__label-arrow:before {color: black;}#sk-container-id-2 div.sk-toggleable__content {max-height: 0;max-width: 0;overflow: hidden;text-align: left;background-color: #f0f8ff;}#sk-container-id-2 div.sk-toggleable__content pre {margin: 0.2em;color: black;border-radius: 0.25em;background-color: #f0f8ff;}#sk-container-id-2 input.sk-toggleable__control:checked~div.sk-toggleable__content {max-height: 200px;max-width: 100%;overflow: auto;}#sk-container-id-2 input.sk-toggleable__control:checked~label.sk-toggleable__label-arrow:before {content: \"▾\";}#sk-container-id-2 div.sk-estimator input.sk-toggleable__control:checked~label.sk-toggleable__label {background-color: #d4ebff;}#sk-container-id-2 div.sk-label input.sk-toggleable__control:checked~label.sk-toggleable__label {background-color: #d4ebff;}#sk-container-id-2 input.sk-hidden--visually {border: 0;clip: rect(1px 1px 1px 1px);clip: rect(1px, 1px, 1px, 1px);height: 1px;margin: -1px;overflow: hidden;padding: 0;position: absolute;width: 1px;}#sk-container-id-2 div.sk-estimator {font-family: monospace;background-color: #f0f8ff;border: 1px dotted black;border-radius: 0.25em;box-sizing: border-box;margin-bottom: 0.5em;}#sk-container-id-2 div.sk-estimator:hover {background-color: #d4ebff;}#sk-container-id-2 div.sk-parallel-item::after {content: \"\";width: 100%;border-bottom: 1px solid gray;flex-grow: 1;}#sk-container-id-2 div.sk-label:hover label.sk-toggleable__label {background-color: #d4ebff;}#sk-container-id-2 div.sk-serial::before {content: \"\";position: absolute;border-left: 1px solid gray;box-sizing: border-box;top: 0;bottom: 0;left: 50%;z-index: 0;}#sk-container-id-2 div.sk-serial {display: flex;flex-direction: column;align-items: center;background-color: white;padding-right: 0.2em;padding-left: 0.2em;position: relative;}#sk-container-id-2 div.sk-item {position: relative;z-index: 1;}#sk-container-id-2 div.sk-parallel {display: flex;align-items: stretch;justify-content: center;background-color: white;position: relative;}#sk-container-id-2 div.sk-item::before, #sk-container-id-2 div.sk-parallel-item::before {content: \"\";position: absolute;border-left: 1px solid gray;box-sizing: border-box;top: 0;bottom: 0;left: 50%;z-index: -1;}#sk-container-id-2 div.sk-parallel-item {display: flex;flex-direction: column;z-index: 1;position: relative;background-color: white;}#sk-container-id-2 div.sk-parallel-item:first-child::after {align-self: flex-end;width: 50%;}#sk-container-id-2 div.sk-parallel-item:last-child::after {align-self: flex-start;width: 50%;}#sk-container-id-2 div.sk-parallel-item:only-child::after {width: 0;}#sk-container-id-2 div.sk-dashed-wrapped {border: 1px dashed gray;margin: 0 0.4em 0.5em 0.4em;box-sizing: border-box;padding-bottom: 0.4em;background-color: white;}#sk-container-id-2 div.sk-label label {font-family: monospace;font-weight: bold;display: inline-block;line-height: 1.2em;}#sk-container-id-2 div.sk-label-container {text-align: center;}#sk-container-id-2 div.sk-container {/* jupyter's `normalize.less` sets `[hidden] { display: none; }` but bootstrap.min.css set `[hidden] { display: none !important; }` so we also need the `!important` here to be able to override the default hidden behavior on the sphinx rendered scikit-learn.org. See: https://github.com/scikit-learn/scikit-learn/issues/21755 */display: inline-block !important;position: relative;}#sk-container-id-2 div.sk-text-repr-fallback {display: none;}</style><div id=\"sk-container-id-2\" class=\"sk-top-container\"><div class=\"sk-text-repr-fallback\"><pre>RandomForestClassifier()</pre><b>In a Jupyter environment, please rerun this cell to show the HTML representation or trust the notebook. <br />On GitHub, the HTML representation is unable to render, please try loading this page with nbviewer.org.</b></div><div class=\"sk-container\" hidden><div class=\"sk-item\"><div class=\"sk-estimator sk-toggleable\"><input class=\"sk-toggleable__control sk-hidden--visually\" id=\"sk-estimator-id-4\" type=\"checkbox\" checked><label for=\"sk-estimator-id-4\" class=\"sk-toggleable__label sk-toggleable__label-arrow\">RandomForestClassifier</label><div class=\"sk-toggleable__content\"><pre>RandomForestClassifier()</pre></div></div></div></div></div>"
      ],
      "text/plain": [
       "RandomForestClassifier()"
      ]
     },
     "execution_count": 17,
     "metadata": {},
     "output_type": "execute_result"
    }
   ],
   "source": [
    "rf.fit(X_train, y)"
   ]
  },
  {
   "cell_type": "markdown",
   "id": "2cc022a2",
   "metadata": {
    "papermill": {
     "duration": 0.00542,
     "end_time": "2025-07-05T08:52:56.855908",
     "exception": false,
     "start_time": "2025-07-05T08:52:56.850488",
     "status": "completed"
    },
    "tags": []
   },
   "source": [
    "## Model Prediction"
   ]
  },
  {
   "cell_type": "code",
   "execution_count": 18,
   "id": "07b59204",
   "metadata": {
    "execution": {
     "iopub.execute_input": "2025-07-05T08:52:56.868763Z",
     "iopub.status.busy": "2025-07-05T08:52:56.867988Z",
     "iopub.status.idle": "2025-07-05T08:52:56.895874Z",
     "shell.execute_reply": "2025-07-05T08:52:56.894952Z"
    },
    "papermill": {
     "duration": 0.036166,
     "end_time": "2025-07-05T08:52:56.897534",
     "exception": false,
     "start_time": "2025-07-05T08:52:56.861368",
     "status": "completed"
    },
    "tags": []
   },
   "outputs": [],
   "source": [
    "y_pred = rf.predict(y_test)"
   ]
  },
  {
   "cell_type": "markdown",
   "id": "7dd1d7b8",
   "metadata": {
    "papermill": {
     "duration": 0.005288,
     "end_time": "2025-07-05T08:52:56.908692",
     "exception": false,
     "start_time": "2025-07-05T08:52:56.903404",
     "status": "completed"
    },
    "tags": []
   },
   "source": [
    "## 📁 Submission File"
   ]
  },
  {
   "cell_type": "code",
   "execution_count": 19,
   "id": "31cd3690",
   "metadata": {
    "execution": {
     "iopub.execute_input": "2025-07-05T08:52:56.921813Z",
     "iopub.status.busy": "2025-07-05T08:52:56.921056Z",
     "iopub.status.idle": "2025-07-05T08:52:56.935746Z",
     "shell.execute_reply": "2025-07-05T08:52:56.934895Z"
    },
    "papermill": {
     "duration": 0.022992,
     "end_time": "2025-07-05T08:52:56.937428",
     "exception": false,
     "start_time": "2025-07-05T08:52:56.914436",
     "status": "completed"
    },
    "tags": []
   },
   "outputs": [],
   "source": [
    "submission = pd.DataFrame({\n",
    "    \"id\": range(len(y_pred)),  # Generate 0, 1, 2, ..., len(test)-1\n",
    "    \"price_range\": y_pred\n",
    "})\n",
    "\n",
    "\n",
    "submission.to_csv(\"submission.csv\", index=False)"
   ]
  },
  {
   "cell_type": "markdown",
   "id": "92baee5f",
   "metadata": {
    "papermill": {
     "duration": 0.005229,
     "end_time": "2025-07-05T08:52:56.948419",
     "exception": false,
     "start_time": "2025-07-05T08:52:56.943190",
     "status": "completed"
    },
    "tags": []
   },
   "source": [
    "**If you liked this notebook, feel free to 🌟 upvote it 🌟 or leave a comment!** "
   ]
  },
  {
   "cell_type": "code",
   "execution_count": null,
   "id": "3dc9f069",
   "metadata": {
    "papermill": {
     "duration": 0.005324,
     "end_time": "2025-07-05T08:52:56.959282",
     "exception": false,
     "start_time": "2025-07-05T08:52:56.953958",
     "status": "completed"
    },
    "tags": []
   },
   "outputs": [],
   "source": []
  }
 ],
 "metadata": {
  "kaggle": {
   "accelerator": "none",
   "dataSources": [
    {
     "datasetId": 11167,
     "sourceId": 15520,
     "sourceType": "datasetVersion"
    }
   ],
   "dockerImageVersionId": 31040,
   "isGpuEnabled": false,
   "isInternetEnabled": true,
   "language": "python",
   "sourceType": "notebook"
  },
  "kernelspec": {
   "display_name": "Python 3",
   "language": "python",
   "name": "python3"
  },
  "language_info": {
   "codemirror_mode": {
    "name": "ipython",
    "version": 3
   },
   "file_extension": ".py",
   "mimetype": "text/x-python",
   "name": "python",
   "nbconvert_exporter": "python",
   "pygments_lexer": "ipython3",
   "version": "3.11.11"
  },
  "papermill": {
   "default_parameters": {},
   "duration": 33.33741,
   "end_time": "2025-07-05T08:52:59.585544",
   "environment_variables": {},
   "exception": null,
   "input_path": "__notebook__.ipynb",
   "output_path": "__notebook__.ipynb",
   "parameters": {},
   "start_time": "2025-07-05T08:52:26.248134",
   "version": "2.6.0"
  }
 },
 "nbformat": 4,
 "nbformat_minor": 5
}
